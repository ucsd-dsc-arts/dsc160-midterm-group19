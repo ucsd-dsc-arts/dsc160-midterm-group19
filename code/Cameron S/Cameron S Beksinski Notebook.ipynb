{
 "cells": [
  {
   "cell_type": "code",
   "execution_count": 231,
   "metadata": {},
   "outputs": [],
   "source": [
    "from bs4 import BeautifulSoup\n",
    "import os\n",
    "import requests\n",
    "%matplotlib inline\n",
    "import matplotlib.pyplot as plt\n",
    "import numpy as np\n",
    "from skimage import io\n",
    "import skimage\n",
    "from skimage import data\n",
    "from skimage.color import rgb2hsv\n",
    "from skimage.filters.rank import entropy\n",
    "from skimage.morphology import disk\n",
    "from skimage.color import rgb2gray\n",
    "import pandas as pd\n",
    "from PIL import Image\n",
    "import matplotlib.pyplot as plt\n",
    "from sklearn import svm\n",
    "from sklearn import preprocessing\n",
    "import sklearn\n",
    "import numpy as np"
   ]
  },
  {
   "cell_type": "markdown",
   "metadata": {},
   "source": [
    "# Scraping Beksinski's Works\n",
    "\n",
    "Fairly self explanatory, searching for Zdislav Beksinski's artworks from Wikiart and downloading them."
   ]
  },
  {
   "cell_type": "code",
   "execution_count": 208,
   "metadata": {},
   "outputs": [],
   "source": [
    "DATA_DIR = './data/'\n",
    "ARTIST_URL = 'https://www.wikiart.org/en/{artist}/all-works/text-list'\n",
    "PAINTING_URL = 'https://www.wikiart.org{painting_path}'\n",
    "\n",
    "if not os.path.exists(DATA_DIR):\n",
    "    os.makedirs(DATA_DIR)"
   ]
  },
  {
   "cell_type": "code",
   "execution_count": 209,
   "metadata": {},
   "outputs": [],
   "source": [
    "artist_name = 'zdzislaw-beksinski'\n",
    "url_query = ARTIST_URL.format(artist=artist_name)\n",
    "artist_page = requests.get(url_query)"
   ]
  },
  {
   "cell_type": "code",
   "execution_count": 63,
   "metadata": {},
   "outputs": [],
   "source": [
    "try:\n",
    "    artist_page.raise_for_status()\n",
    "except requests.exceptions.HTTPError as e:\n",
    "    print(\"Error trying to retrieve {}\".format(artist_page.url))\n",
    "    raise e"
   ]
  },
  {
   "cell_type": "code",
   "execution_count": 69,
   "metadata": {},
   "outputs": [],
   "source": [
    "soup = BeautifulSoup(artist_page.text, 'lxml')\n",
    "IMAGE_DIR = os.path.join(DATA_DIR, artist_name)\n",
    "if not os.path.exists(IMAGE_DIR):\n",
    "    os.makedirs(IMAGE_DIR)"
   ]
  },
  {
   "cell_type": "code",
   "execution_count": 50,
   "metadata": {
    "scrolled": true
   },
   "outputs": [
    {
     "name": "stdout",
     "output_type": "stream",
     "text": [
      "708\n"
     ]
    }
   ],
   "source": [
    "painting_paths = []\n",
    "\n",
    "for li in soup.find_all('li', {'class': 'painting-list-text-row'}):\n",
    "\n",
    "    for link in li.find_all('a'):\n",
    "        href = link.get('href')\n",
    "        # store in dictionary\n",
    "        painting_paths.append(href)\n",
    "\n",
    "print(len(painting_paths))"
   ]
  },
  {
   "cell_type": "code",
   "execution_count": 51,
   "metadata": {},
   "outputs": [],
   "source": [
    "def download_and_save(painting_url):\n",
    "    r_painting_page = requests.get(painting_url)\n",
    "    soup = BeautifulSoup(r_painting_page.text, 'lxml')\n",
    "    for img in soup.find_all('img', {'class': 'ms-zoom-cursor'}):\n",
    "        img_url = img['src']\n",
    "        img_url = img_url.split('!')[0]\n",
    "        filename = img_url.split('/')[-1]\n",
    "\n",
    "        outfile = os.path.join(IMAGE_DIR, filename)                       \n",
    "        if not os.path.exists(outfile):                        \n",
    "            print(\"downloading {}: {}\".format(filename, img_url))\n",
    "            r = requests.get(img_url, outfile)\n",
    "            with open(outfile, 'wb') as f:\n",
    "                f.write(r.content)\n",
    "        else:\n",
    "            #print(\"skipping {}\".format(filename))\n",
    "            pass"
   ]
  },
  {
   "cell_type": "code",
   "execution_count": 53,
   "metadata": {
    "scrolled": true
   },
   "outputs": [
    {
     "name": "stdout",
     "output_type": "stream",
     "text": [
      "downloading untitled-136.jpg: https://uploads1.wikiart.org/images/zdislav-beksinski/untitled-136.jpg\n",
      "downloading untitled-137.jpg: https://uploads1.wikiart.org/images/zdislav-beksinski/untitled-137.jpg\n",
      "downloading untitled-138.jpg: https://uploads1.wikiart.org/images/zdislav-beksinski/untitled-138.jpg\n",
      "downloading untitled-139.jpg: https://uploads1.wikiart.org/images/zdislav-beksinski/untitled-139.jpg\n",
      "downloading untitled-140.jpg: https://uploads1.wikiart.org/images/zdislav-beksinski/untitled-140.jpg\n",
      "downloading untitled-141.jpg: https://uploads1.wikiart.org/images/zdislav-beksinski/untitled-141.jpg\n",
      "downloading untitled-142.jpg: https://uploads1.wikiart.org/images/zdislav-beksinski/untitled-142.jpg\n",
      "downloading untitled-143.jpg: https://uploads1.wikiart.org/images/zdislav-beksinski/untitled-143.jpg\n",
      "downloading untitled-144.jpg: https://uploads1.wikiart.org/images/zdislav-beksinski/untitled-144.jpg\n",
      "downloading untitled-145.jpg: https://uploads1.wikiart.org/images/zdislav-beksinski/untitled-145.jpg\n",
      "downloading untitled-146.jpg: https://uploads1.wikiart.org/images/zdislav-beksinski/untitled-146.jpg\n",
      "downloading untitled-147.jpg: https://uploads1.wikiart.org/images/zdislav-beksinski/untitled-147.jpg\n",
      "downloading untitled-148.jpg: https://uploads1.wikiart.org/images/zdislav-beksinski/untitled-148.jpg\n",
      "downloading untitled-149.jpg: https://uploads1.wikiart.org/images/zdislav-beksinski/untitled-149.jpg\n",
      "downloading untitled-150.jpg: https://uploads1.wikiart.org/images/zdislav-beksinski/untitled-150.jpg\n",
      "downloading untitled-151.jpg: https://uploads1.wikiart.org/images/zdislav-beksinski/untitled-151.jpg\n",
      "downloading untitled-152.jpg: https://uploads1.wikiart.org/images/zdislav-beksinski/untitled-152.jpg\n",
      "downloading untitled-153.jpg: https://uploads1.wikiart.org/images/zdislav-beksinski/untitled-153.jpg\n",
      "downloading untitled-154.jpg: https://uploads1.wikiart.org/images/zdislav-beksinski/untitled-154.jpg\n",
      "downloading untitled-155.jpg: https://uploads1.wikiart.org/images/zdislav-beksinski/untitled-155.jpg\n",
      "downloading untitled-156.jpg: https://uploads1.wikiart.org/images/zdislav-beksinski/untitled-156.jpg\n",
      "downloading untitled-157.jpg: https://uploads1.wikiart.org/images/zdislav-beksinski/untitled-157.jpg\n",
      "downloading untitled-158.jpg: https://uploads1.wikiart.org/images/zdislav-beksinski/untitled-158.jpg\n",
      "downloading untitled-159.jpg: https://uploads1.wikiart.org/images/zdislav-beksinski/untitled-159.jpg\n",
      "downloading untitled-160.jpg: https://uploads1.wikiart.org/images/zdislav-beksinski/untitled-160.jpg\n",
      "downloading untitled-161.jpg: https://uploads1.wikiart.org/images/zdislav-beksinski/untitled-161.jpg\n",
      "downloading untitled-162.jpg: https://uploads1.wikiart.org/images/zdislav-beksinski/untitled-162.jpg\n",
      "downloading untitled-163.jpg: https://uploads1.wikiart.org/images/zdislav-beksinski/untitled-163.jpg\n",
      "downloading untitled-164.jpg: https://uploads1.wikiart.org/images/zdislav-beksinski/untitled-164.jpg\n",
      "downloading untitled-165.jpg: https://uploads1.wikiart.org/images/zdislav-beksinski/untitled-165.jpg\n",
      "downloading untitled-166.jpg: https://uploads1.wikiart.org/images/zdislav-beksinski/untitled-166.jpg\n",
      "downloading untitled-167.jpg: https://uploads1.wikiart.org/images/zdislav-beksinski/untitled-167.jpg\n",
      "downloading untitled-168.jpg: https://uploads1.wikiart.org/images/zdislav-beksinski/untitled-168.jpg\n",
      "downloading untitled-169.jpg: https://uploads1.wikiart.org/images/zdislav-beksinski/untitled-169.jpg\n",
      "downloading untitled-170.jpg: https://uploads1.wikiart.org/images/zdislav-beksinski/untitled-170.jpg\n",
      "downloading untitled-171.jpg: https://uploads1.wikiart.org/images/zdislav-beksinski/untitled-171.jpg\n",
      "downloading untitled-172.jpg: https://uploads1.wikiart.org/images/zdislav-beksinski/untitled-172.jpg\n",
      "downloading untitled-173.jpg: https://uploads1.wikiart.org/images/zdislav-beksinski/untitled-173.jpg\n",
      "downloading untitled-174.jpg: https://uploads1.wikiart.org/images/zdislav-beksinski/untitled-174.jpg\n",
      "downloading untitled-175.jpg: https://uploads1.wikiart.org/images/zdislav-beksinski/untitled-175.jpg\n",
      "downloading untitled-176.jpg: https://uploads1.wikiart.org/images/zdislav-beksinski/untitled-176.jpg\n",
      "downloading untitled-177.jpg: https://uploads1.wikiart.org/images/zdislav-beksinski/untitled-177.jpg\n",
      "downloading untitled-178.jpg: https://uploads1.wikiart.org/images/zdislav-beksinski/untitled-178.jpg\n",
      "downloading untitled-179.jpg: https://uploads1.wikiart.org/images/zdislav-beksinski/untitled-179.jpg\n",
      "downloading untitled-180.jpg: https://uploads1.wikiart.org/images/zdislav-beksinski/untitled-180.jpg\n",
      "downloading untitled-181.jpg: https://uploads1.wikiart.org/images/zdislav-beksinski/untitled-181.jpg\n",
      "downloading untitled-182.jpg: https://uploads1.wikiart.org/images/zdislav-beksinski/untitled-182.jpg\n",
      "downloading untitled-183.jpg: https://uploads1.wikiart.org/images/zdislav-beksinski/untitled-183.jpg\n",
      "downloading untitled-184.jpg: https://uploads1.wikiart.org/images/zdislav-beksinski/untitled-184.jpg\n",
      "downloading untitled-185.jpg: https://uploads1.wikiart.org/images/zdislav-beksinski/untitled-185.jpg\n",
      "downloading untitled-189.jpg: https://uploads1.wikiart.org/images/zdislav-beksinski/untitled-189.jpg\n",
      "downloading untitled-190.jpg: https://uploads1.wikiart.org/images/zdislav-beksinski/untitled-190.jpg\n",
      "downloading untitled-191.jpg: https://uploads0.wikiart.org/images/zdislav-beksinski/untitled-191.jpg\n",
      "downloading untitled-192.jpg: https://uploads1.wikiart.org/images/zdislav-beksinski/untitled-192.jpg\n",
      "downloading untitled-193.jpg: https://uploads0.wikiart.org/images/zdislav-beksinski/untitled-193.jpg\n",
      "downloading untitled-194.jpg: https://uploads1.wikiart.org/images/zdislav-beksinski/untitled-194.jpg\n",
      "downloading untitled-195.jpg: https://uploads0.wikiart.org/images/zdislav-beksinski/untitled-195.jpg\n",
      "downloading untitled-196.jpg: https://uploads1.wikiart.org/images/zdislav-beksinski/untitled-196.jpg\n",
      "downloading untitled-197.jpg: https://uploads1.wikiart.org/images/zdislav-beksinski/untitled-197.jpg\n",
      "downloading untitled-198.jpg: https://uploads1.wikiart.org/images/zdislav-beksinski/untitled-198.jpg\n",
      "downloading untitled-199.jpg: https://uploads0.wikiart.org/images/zdislav-beksinski/untitled-199.jpg\n",
      "downloading untitled-200.jpg: https://uploads0.wikiart.org/images/zdislav-beksinski/untitled-200.jpg\n",
      "downloading untitled-201.jpg: https://uploads1.wikiart.org/images/zdislav-beksinski/untitled-201.jpg\n",
      "downloading untitled-202.jpg: https://uploads0.wikiart.org/images/zdislav-beksinski/untitled-202.jpg\n",
      "downloading untitled-203.jpg: https://uploads0.wikiart.org/images/zdislav-beksinski/untitled-203.jpg\n",
      "downloading untitled-204.jpg: https://uploads0.wikiart.org/images/zdislav-beksinski/untitled-204.jpg\n",
      "downloading untitled-205.jpg: https://uploads1.wikiart.org/images/zdislav-beksinski/untitled-205.jpg\n",
      "downloading untitled-206.jpg: https://uploads0.wikiart.org/images/zdislav-beksinski/untitled-206.jpg\n",
      "downloading untitled-207.jpg: https://uploads1.wikiart.org/images/zdislav-beksinski/untitled-207.jpg\n",
      "downloading untitled-208.jpg: https://uploads0.wikiart.org/images/zdislav-beksinski/untitled-208.jpg\n",
      "downloading untitled-259.jpg: https://uploads1.wikiart.org/images/zdislav-beksinski/untitled-259.jpg\n",
      "downloading untitled-260.jpg: https://uploads0.wikiart.org/images/zdislav-beksinski/untitled-260.jpg\n",
      "downloading untitled-261.jpg: https://uploads1.wikiart.org/images/zdislav-beksinski/untitled-261.jpg\n",
      "downloading untitled-262.jpg: https://uploads0.wikiart.org/images/zdislav-beksinski/untitled-262.jpg\n",
      "downloading untitled-263.jpg: https://uploads1.wikiart.org/images/zdislav-beksinski/untitled-263.jpg\n",
      "downloading untitled-264.jpg: https://uploads1.wikiart.org/images/zdislav-beksinski/untitled-264.jpg\n",
      "downloading untitled-265.jpg: https://uploads0.wikiart.org/images/zdislav-beksinski/untitled-265.jpg\n",
      "downloading untitled-266.jpg: https://uploads1.wikiart.org/images/zdislav-beksinski/untitled-266.jpg\n",
      "downloading untitled-267.jpg: https://uploads1.wikiart.org/images/zdislav-beksinski/untitled-267.jpg\n",
      "downloading untitled-268.jpg: https://uploads0.wikiart.org/images/zdislav-beksinski/untitled-268.jpg\n",
      "downloading untitled-269.jpg: https://uploads1.wikiart.org/images/zdislav-beksinski/untitled-269.jpg\n",
      "downloading untitled-270.jpg: https://uploads0.wikiart.org/images/zdislav-beksinski/untitled-270.jpg\n"
     ]
    },
    {
     "name": "stdout",
     "output_type": "stream",
     "text": [
      "downloading untitled-271.jpg: https://uploads1.wikiart.org/images/zdislav-beksinski/untitled-271.jpg\n",
      "downloading untitled-272.jpg: https://uploads1.wikiart.org/images/zdislav-beksinski/untitled-272.jpg\n",
      "downloading untitled-273.jpg: https://uploads1.wikiart.org/images/zdislav-beksinski/untitled-273.jpg\n",
      "downloading untitled-274.jpg: https://uploads0.wikiart.org/images/zdislav-beksinski/untitled-274.jpg\n",
      "downloading untitled-275.jpg: https://uploads1.wikiart.org/images/zdislav-beksinski/untitled-275.jpg\n",
      "downloading untitled-276.jpg: https://uploads1.wikiart.org/images/zdislav-beksinski/untitled-276.jpg\n",
      "downloading untitled-277.jpg: https://uploads1.wikiart.org/images/zdislav-beksinski/untitled-277.jpg\n",
      "downloading untitled-278.jpg: https://uploads1.wikiart.org/images/zdislav-beksinski/untitled-278.jpg\n",
      "downloading untitled-279.jpg: https://uploads1.wikiart.org/images/zdislav-beksinski/untitled-279.jpg\n",
      "downloading untitled-280.jpg: https://uploads1.wikiart.org/images/zdislav-beksinski/untitled-280.jpg\n",
      "downloading untitled-281.jpg: https://uploads1.wikiart.org/images/zdislav-beksinski/untitled-281.jpg\n",
      "downloading untitled-282.jpg: https://uploads1.wikiart.org/images/zdislav-beksinski/untitled-282.jpg\n",
      "downloading untitled-283.jpg: https://uploads1.wikiart.org/images/zdislav-beksinski/untitled-283.jpg\n",
      "downloading untitled-284.jpg: https://uploads0.wikiart.org/images/zdislav-beksinski/untitled-284.jpg\n",
      "downloading untitled-285.jpg: https://uploads0.wikiart.org/images/zdislav-beksinski/untitled-285.jpg\n",
      "downloading untitled-286.jpg: https://uploads1.wikiart.org/images/zdislav-beksinski/untitled-286.jpg\n",
      "downloading untitled-287.jpg: https://uploads1.wikiart.org/images/zdislav-beksinski/untitled-287.jpg\n",
      "downloading untitled-288.jpg: https://uploads0.wikiart.org/images/zdislav-beksinski/untitled-288.jpg\n"
     ]
    }
   ],
   "source": [
    "#choosing the most interesting to me, Beksinski has over 700 works, so I didn't want to just download all of them.\n",
    "for path in painting_paths[160:320]:\n",
    "    painting_path = PAINTING_URL.format(painting_path=path)\n",
    "    download_and_save(painting_path)"
   ]
  },
  {
   "cell_type": "code",
   "execution_count": 54,
   "metadata": {},
   "outputs": [],
   "source": [
    "def calc_stats(filename):\n",
    "    image = io.imread(os.path.join(IMAGE_DIR, filename))\n",
    "    width = image.shape[0]\n",
    "    height = image.shape[1]\n",
    "    hsv_img = rgb2hsv(image)\n",
    "    hue_img = hsv_img[:, :, 0]\n",
    "    saturation_img = hsv_img[:,:, 1]\n",
    "    value_img = hsv_img[:, :, 2]\n",
    "    mean_hue = np.mean(hue_img)\n",
    "    mean_sat = np.mean(saturation_img)\n",
    "    mean_value = np.mean(value_img)\n",
    "    return [width, height, mean_hue, mean_sat, mean_value]"
   ]
  },
  {
   "cell_type": "code",
   "execution_count": 145,
   "metadata": {},
   "outputs": [],
   "source": [
    "df = pd.DataFrame(columns = ['width', 'height', 'mean_hue', 'mean_saturation', 'mean_value'])\n",
    "for file in os.listdir(IMAGE_DIR):\n",
    "    if file.endswith('.jpg'):\n",
    "        data = calc_stats(file)\n",
    "        dicti = {'width': data[0], 'height': data[1], 'mean_hue': data[2], 'mean_saturation': data[3], 'mean_value': data[4]}\n",
    "        df = df.append(dicti, ignore_index=True)"
   ]
  },
  {
   "cell_type": "code",
   "execution_count": 146,
   "metadata": {},
   "outputs": [],
   "source": [
    "df.index = os.listdir(IMAGE_DIR)\n",
    "df.to_csv('zdzislaw-beksinski.csv')"
   ]
  },
  {
   "cell_type": "code",
   "execution_count": 147,
   "metadata": {},
   "outputs": [],
   "source": [
    "def make_thumbnail(filename, imagepath, thumbnailpath):\n",
    "    path = os.path.join(imagepath, filename)\n",
    "    image = Image.open(path)\n",
    "    size = 256, 256\n",
    "    image.thumbnail(size)\n",
    "    image.save(os.path.join(thumbnailpath, filename))"
   ]
  },
  {
   "cell_type": "code",
   "execution_count": 148,
   "metadata": {},
   "outputs": [],
   "source": [
    "THUMB_DIR = os.path.join(DATA_DIR, 'thumbnails-{artist}'.format(artist=artist_name))\n",
    "if not os.path.exists(THUMB_DIR):\n",
    "    os.makedirs(THUMB_DIR)"
   ]
  },
  {
   "cell_type": "code",
   "execution_count": 149,
   "metadata": {},
   "outputs": [],
   "source": [
    "for file in os.listdir(IMAGE_DIR):\n",
    "    if file.endswith('.jpg'):  \n",
    "        make_thumbnail(file, IMAGE_DIR, THUMB_DIR)"
   ]
  },
  {
   "cell_type": "markdown",
   "metadata": {},
   "source": [
    "Initial examination of basic hue, saturation and color of beksinski's paintings"
   ]
  },
  {
   "cell_type": "code",
   "execution_count": 150,
   "metadata": {},
   "outputs": [
    {
     "data": {
      "text/plain": [
       "(array([17., 42., 30., 20., 20., 12.,  7.,  5.,  5.,  2.]),\n",
       " array([0.        , 0.0768958 , 0.1537916 , 0.2306874 , 0.3075832 ,\n",
       "        0.38447899, 0.46137479, 0.53827059, 0.61516639, 0.69206219,\n",
       "        0.76895799]),\n",
       " <a list of 10 Patch objects>)"
      ]
     },
     "execution_count": 150,
     "metadata": {},
     "output_type": "execute_result"
    },
    {
     "data": {
      "image/png": "[encoded data removed]",
      "text/plain": [
       "<Figure size 432x288 with 1 Axes>"
      ]
     },
     "metadata": {
      "needs_background": "light"
     },
     "output_type": "display_data"
    }
   ],
   "source": [
    "plt.hist(df['mean_hue'])"
   ]
  },
  {
   "cell_type": "code",
   "execution_count": 151,
   "metadata": {},
   "outputs": [
    {
     "data": {
      "text/plain": [
       "(array([14.,  5., 11., 20., 36., 32., 25.,  8.,  4.,  5.]),\n",
       " array([0.        , 0.08325717, 0.16651434, 0.24977151, 0.33302868,\n",
       "        0.41628585, 0.49954302, 0.58280019, 0.66605736, 0.74931453,\n",
       "        0.8325717 ]),\n",
       " <a list of 10 Patch objects>)"
      ]
     },
     "execution_count": 151,
     "metadata": {},
     "output_type": "execute_result"
    },
    {
     "data": {
      "image/png": "[encoded data removed]",
      "text/plain": [
       "<Figure size 432x288 with 1 Axes>"
      ]
     },
     "metadata": {
      "needs_background": "light"
     },
     "output_type": "display_data"
    }
   ],
   "source": [
    "plt.hist(df['mean_saturation'])"
   ]
  },
  {
   "cell_type": "code",
   "execution_count": 152,
   "metadata": {},
   "outputs": [
    {
     "data": {
      "text/plain": [
       "(array([ 2.,  7., 21., 22., 35., 35., 21., 12.,  3.,  2.]),\n",
       " array([0.21721218, 0.27665557, 0.33609896, 0.39554236, 0.45498575,\n",
       "        0.51442914, 0.57387253, 0.63331592, 0.69275931, 0.75220271,\n",
       "        0.8116461 ]),\n",
       " <a list of 10 Patch objects>)"
      ]
     },
     "execution_count": 152,
     "metadata": {},
     "output_type": "execute_result"
    },
    {
     "data": {
      "image/png": "[encoded data removed]",
      "text/plain": [
       "<Figure size 432x288 with 1 Axes>"
      ]
     },
     "metadata": {
      "needs_background": "light"
     },
     "output_type": "display_data"
    }
   ],
   "source": [
    "plt.hist(df['mean_value'])"
   ]
  },
  {
   "cell_type": "code",
   "execution_count": 153,
   "metadata": {},
   "outputs": [
    {
     "data": {
      "text/plain": [
       "<matplotlib.collections.PathCollection at 0x293d12b4c18>"
      ]
     },
     "execution_count": 153,
     "metadata": {},
     "output_type": "execute_result"
    },
    {
     "data": {
      "image/png": "[encoded data removed]",
      "text/plain": [
       "<Figure size 432x288 with 1 Axes>"
      ]
     },
     "metadata": {
      "needs_background": "light"
     },
     "output_type": "display_data"
    }
   ],
   "source": [
    "plt.scatter(df['mean_value'], df['mean_hue'])"
   ]
  },
  {
   "cell_type": "code",
   "execution_count": 319,
   "metadata": {},
   "outputs": [],
   "source": [
    "RESULT_DIR = os.path.join('./results/', 'results-{artist}'.format(artist=artist_name))\n",
    "if not os.path.exists(RESULT_DIR):\n",
    "    os.makedirs(RESULT_DIR)"
   ]
  },
  {
   "cell_type": "code",
   "execution_count": 320,
   "metadata": {},
   "outputs": [
    {
     "ename": "FileNotFoundError",
     "evalue": "[WinError 3] The system cannot find the path specified: './data/thumbnails-zdzislaw-beksinski'",
     "output_type": "error",
     "traceback": [
      "\u001b[1;31m---------------------------------------------------------------------------\u001b[0m",
      "\u001b[1;31mFileNotFoundError\u001b[0m                         Traceback (most recent call last)",
      "\u001b[1;32m<ipython-input-320-e8d2b94725e2>\u001b[0m in \u001b[0;36m<module>\u001b[1;34m\u001b[0m\n\u001b[1;32m----> 1\u001b[1;33m \u001b[0mthumbs\u001b[0m \u001b[1;33m=\u001b[0m \u001b[0mos\u001b[0m\u001b[1;33m.\u001b[0m\u001b[0mlistdir\u001b[0m\u001b[1;33m(\u001b[0m\u001b[0mTHUMB_DIR\u001b[0m\u001b[1;33m)\u001b[0m\u001b[1;33m\u001b[0m\u001b[1;33m\u001b[0m\u001b[0m\n\u001b[0m",
      "\u001b[1;31mFileNotFoundError\u001b[0m: [WinError 3] The system cannot find the path specified: './data/thumbnails-zdzislaw-beksinski'"
     ]
    }
   ],
   "source": [
    "thumbs = os.listdir(THUMB_DIR)"
   ]
  },
  {
   "cell_type": "code",
   "execution_count": 321,
   "metadata": {},
   "outputs": [
    {
     "ename": "FileNotFoundError",
     "evalue": "[Errno 2] No such file or directory: './data/thumbnails-zdzislaw-beksinski\\\\untitled-126.jpg'",
     "output_type": "error",
     "traceback": [
      "\u001b[1;31m---------------------------------------------------------------------------\u001b[0m",
      "\u001b[1;31mFileNotFoundError\u001b[0m                         Traceback (most recent call last)",
      "\u001b[1;32m<ipython-input-321-a6c2c51f20de>\u001b[0m in \u001b[0;36m<module>\u001b[1;34m\u001b[0m\n\u001b[0;32m      5\u001b[0m \u001b[0my_coords\u001b[0m \u001b[1;33m=\u001b[0m \u001b[1;33m(\u001b[0m\u001b[0mGLOBAL_WIDTH\u001b[0m \u001b[1;33m*\u001b[0m \u001b[0mdf\u001b[0m\u001b[1;33m[\u001b[0m\u001b[1;34m'mean_hue'\u001b[0m\u001b[1;33m]\u001b[0m\u001b[1;33m)\u001b[0m\u001b[1;33m.\u001b[0m\u001b[0mapply\u001b[0m\u001b[1;33m(\u001b[0m\u001b[0mint\u001b[0m\u001b[1;33m)\u001b[0m\u001b[1;33m\u001b[0m\u001b[1;33m\u001b[0m\u001b[0m\n\u001b[0;32m      6\u001b[0m \u001b[1;32mfor\u001b[0m \u001b[0mi\u001b[0m \u001b[1;32min\u001b[0m \u001b[0mrange\u001b[0m\u001b[1;33m(\u001b[0m\u001b[0mlen\u001b[0m\u001b[1;33m(\u001b[0m\u001b[0mthumbs\u001b[0m\u001b[1;33m)\u001b[0m\u001b[1;33m)\u001b[0m\u001b[1;33m:\u001b[0m\u001b[1;33m\u001b[0m\u001b[1;33m\u001b[0m\u001b[0m\n\u001b[1;32m----> 7\u001b[1;33m     \u001b[0mthumb_img\u001b[0m \u001b[1;33m=\u001b[0m \u001b[0mImage\u001b[0m\u001b[1;33m.\u001b[0m\u001b[0mopen\u001b[0m\u001b[1;33m(\u001b[0m\u001b[0mos\u001b[0m\u001b[1;33m.\u001b[0m\u001b[0mpath\u001b[0m\u001b[1;33m.\u001b[0m\u001b[0mjoin\u001b[0m\u001b[1;33m(\u001b[0m\u001b[0mTHUMB_DIR\u001b[0m\u001b[1;33m,\u001b[0m \u001b[0mthumbs\u001b[0m\u001b[1;33m[\u001b[0m\u001b[0mi\u001b[0m\u001b[1;33m]\u001b[0m\u001b[1;33m)\u001b[0m\u001b[1;33m)\u001b[0m\u001b[1;33m\u001b[0m\u001b[1;33m\u001b[0m\u001b[0m\n\u001b[0m\u001b[0;32m      8\u001b[0m     \u001b[0mfigure1\u001b[0m\u001b[1;33m.\u001b[0m\u001b[0mpaste\u001b[0m\u001b[1;33m(\u001b[0m\u001b[0mthumb_img\u001b[0m\u001b[1;33m,\u001b[0m \u001b[1;33m(\u001b[0m\u001b[0mx_coords\u001b[0m\u001b[1;33m[\u001b[0m\u001b[0mi\u001b[0m\u001b[1;33m]\u001b[0m\u001b[1;33m,\u001b[0m \u001b[0my_coords\u001b[0m\u001b[1;33m[\u001b[0m\u001b[0mi\u001b[0m\u001b[1;33m]\u001b[0m\u001b[1;33m)\u001b[0m\u001b[1;33m)\u001b[0m\u001b[1;33m\u001b[0m\u001b[1;33m\u001b[0m\u001b[0m\n",
      "\u001b[1;32mD:\\Users\\cameron\\Anaconda3\\lib\\site-packages\\PIL\\Image.py\u001b[0m in \u001b[0;36mopen\u001b[1;34m(fp, mode)\u001b[0m\n\u001b[0;32m   2607\u001b[0m \u001b[1;33m\u001b[0m\u001b[0m\n\u001b[0;32m   2608\u001b[0m     \u001b[1;32mif\u001b[0m \u001b[0mfilename\u001b[0m\u001b[1;33m:\u001b[0m\u001b[1;33m\u001b[0m\u001b[1;33m\u001b[0m\u001b[0m\n\u001b[1;32m-> 2609\u001b[1;33m         \u001b[0mfp\u001b[0m \u001b[1;33m=\u001b[0m \u001b[0mbuiltins\u001b[0m\u001b[1;33m.\u001b[0m\u001b[0mopen\u001b[0m\u001b[1;33m(\u001b[0m\u001b[0mfilename\u001b[0m\u001b[1;33m,\u001b[0m \u001b[1;34m\"rb\"\u001b[0m\u001b[1;33m)\u001b[0m\u001b[1;33m\u001b[0m\u001b[1;33m\u001b[0m\u001b[0m\n\u001b[0m\u001b[0;32m   2610\u001b[0m         \u001b[0mexclusive_fp\u001b[0m \u001b[1;33m=\u001b[0m \u001b[1;32mTrue\u001b[0m\u001b[1;33m\u001b[0m\u001b[1;33m\u001b[0m\u001b[0m\n\u001b[0;32m   2611\u001b[0m \u001b[1;33m\u001b[0m\u001b[0m\n",
      "\u001b[1;31mFileNotFoundError\u001b[0m: [Errno 2] No such file or directory: './data/thumbnails-zdzislaw-beksinski\\\\untitled-126.jpg'"
     ]
    }
   ],
   "source": [
    "GLOBAL_WIDTH = 5000\n",
    "bg_color = (192, 192, 192)\n",
    "figure1 = Image.new('RGB', (GLOBAL_WIDTH, GLOBAL_WIDTH), bg_color)\n",
    "x_coords = (GLOBAL_WIDTH * df['mean_value']).apply(int)\n",
    "y_coords = (GLOBAL_WIDTH * df['mean_hue']).apply(int)\n",
    "for i in range(len(thumbs)):\n",
    "    thumb_img = Image.open(os.path.join(THUMB_DIR, thumbs[i]))\n",
    "    figure1.paste(thumb_img, (x_coords[i], y_coords[i]))"
   ]
  },
  {
   "cell_type": "code",
   "execution_count": null,
   "metadata": {},
   "outputs": [],
   "source": [
    "figure1.save(os.path.join(RESULT_DIR, 'brightness_vs_hue.jpg'))"
   ]
  },
  {
   "cell_type": "code",
   "execution_count": null,
   "metadata": {},
   "outputs": [],
   "source": [
    "bg_color = (192, 192, 192)\n",
    "figure2 = Image.new('RGB', (GLOBAL_WIDTH, GLOBAL_WIDTH), bg_color)\n",
    "x_coords = (GLOBAL_WIDTH * df['mean_saturation']).apply(int)\n",
    "y_coords = (GLOBAL_WIDTH * df['mean_hue']).apply(int)\n",
    "for i in range(len(thumbs)):\n",
    "    thumb_img = Image.open(os.path.join(THUMB_DIR, thumbs[i]))\n",
    "    figure2.paste(thumb_img, (x_coords[i], y_coords[i]))"
   ]
  },
  {
   "cell_type": "code",
   "execution_count": null,
   "metadata": {},
   "outputs": [],
   "source": [
    "figure2.save(os.path.join(RESULT_DIR, 'saturation_vs_hue.jpg'))"
   ]
  },
  {
   "cell_type": "markdown",
   "metadata": {},
   "source": [
    "Calculating advanced image features"
   ]
  },
  {
   "cell_type": "code",
   "execution_count": null,
   "metadata": {},
   "outputs": [],
   "source": [
    "def calc_adv_stats(filename):\n",
    "    image = io.imread(os.path.join(IMAGE_DIR, filename))\n",
    "    gray_img = rgb2gray(image)\n",
    "    entr_img = entropy(gray_img, disk(10))\n",
    "    \n",
    "    arr = np.array(image, dtype = int)\n",
    "\n",
    "    deltaX2 = np.square(np.roll(arr, -1, axis = 0) - np.roll(arr, 1, axis = 0))\n",
    "\n",
    "    deltaY2 = np.square(np.roll(arr, -1, axis = 1) - np.roll(arr, 1, axis = 1))\n",
    "\n",
    "    dualEnergy = np.sum(deltaX2, axis = 2) + np.sum(deltaY2, axis = 2)\n",
    "    \n",
    "    mean_entr = np.mean(entr_img)\n",
    "    mean_ener = np.mean(dualEnergy)\n",
    "    return [mean_entr, mean_ener]"
   ]
  },
  {
   "cell_type": "code",
   "execution_count": 322,
   "metadata": {},
   "outputs": [
    {
     "ename": "FileNotFoundError",
     "evalue": "[WinError 3] The system cannot find the path specified: './data/zdzislaw-beksinski'",
     "output_type": "error",
     "traceback": [
      "\u001b[1;31m---------------------------------------------------------------------------\u001b[0m",
      "\u001b[1;31mFileNotFoundError\u001b[0m                         Traceback (most recent call last)",
      "\u001b[1;32m<ipython-input-322-4c52ad4143ab>\u001b[0m in \u001b[0;36m<module>\u001b[1;34m\u001b[0m\n\u001b[0;32m      1\u001b[0m \u001b[0mdf2\u001b[0m \u001b[1;33m=\u001b[0m \u001b[0mpd\u001b[0m\u001b[1;33m.\u001b[0m\u001b[0mDataFrame\u001b[0m\u001b[1;33m(\u001b[0m\u001b[0mcolumns\u001b[0m \u001b[1;33m=\u001b[0m \u001b[1;33m[\u001b[0m\u001b[1;34m'mean_entr'\u001b[0m\u001b[1;33m,\u001b[0m \u001b[1;34m'mean_ener'\u001b[0m\u001b[1;33m]\u001b[0m\u001b[1;33m)\u001b[0m\u001b[1;33m\u001b[0m\u001b[1;33m\u001b[0m\u001b[0m\n\u001b[1;32m----> 2\u001b[1;33m \u001b[1;32mfor\u001b[0m \u001b[0mfile\u001b[0m \u001b[1;32min\u001b[0m \u001b[0mos\u001b[0m\u001b[1;33m.\u001b[0m\u001b[0mlistdir\u001b[0m\u001b[1;33m(\u001b[0m\u001b[0mIMAGE_DIR\u001b[0m\u001b[1;33m)\u001b[0m\u001b[1;33m:\u001b[0m\u001b[1;33m\u001b[0m\u001b[1;33m\u001b[0m\u001b[0m\n\u001b[0m\u001b[0;32m      3\u001b[0m     \u001b[1;32mif\u001b[0m \u001b[0mfile\u001b[0m\u001b[1;33m.\u001b[0m\u001b[0mendswith\u001b[0m\u001b[1;33m(\u001b[0m\u001b[1;34m'.jpg'\u001b[0m\u001b[1;33m)\u001b[0m\u001b[1;33m:\u001b[0m\u001b[1;33m\u001b[0m\u001b[1;33m\u001b[0m\u001b[0m\n\u001b[0;32m      4\u001b[0m         \u001b[0mdata\u001b[0m \u001b[1;33m=\u001b[0m \u001b[0mcalc_adv_stats\u001b[0m\u001b[1;33m(\u001b[0m\u001b[0mfile\u001b[0m\u001b[1;33m)\u001b[0m\u001b[1;33m\u001b[0m\u001b[1;33m\u001b[0m\u001b[0m\n\u001b[0;32m      5\u001b[0m         \u001b[0mdicti\u001b[0m \u001b[1;33m=\u001b[0m \u001b[1;33m{\u001b[0m\u001b[1;34m'mean_entr'\u001b[0m\u001b[1;33m:\u001b[0m \u001b[0mdata\u001b[0m\u001b[1;33m[\u001b[0m\u001b[1;36m0\u001b[0m\u001b[1;33m]\u001b[0m\u001b[1;33m,\u001b[0m \u001b[1;34m'mean_ener'\u001b[0m\u001b[1;33m:\u001b[0m \u001b[0mdata\u001b[0m\u001b[1;33m[\u001b[0m\u001b[1;36m1\u001b[0m\u001b[1;33m]\u001b[0m\u001b[1;33m}\u001b[0m\u001b[1;33m\u001b[0m\u001b[1;33m\u001b[0m\u001b[0m\n",
      "\u001b[1;31mFileNotFoundError\u001b[0m: [WinError 3] The system cannot find the path specified: './data/zdzislaw-beksinski'"
     ]
    }
   ],
   "source": [
    "df2 = pd.DataFrame(columns = ['mean_entr', 'mean_ener'])\n",
    "for file in os.listdir(IMAGE_DIR):\n",
    "    if file.endswith('.jpg'):\n",
    "        data = calc_adv_stats(file)\n",
    "        dicti = {'mean_entr': data[0], 'mean_ener': data[1]}\n",
    "        df2 = df2.append(dicti, ignore_index=True)"
   ]
  },
  {
   "cell_type": "code",
   "execution_count": null,
   "metadata": {},
   "outputs": [],
   "source": [
    "#normalizing for purpose of graphing\n",
    "normalized_entr = ((df2['mean_entr'] - df2['mean_entr'].min())/(df2['mean_entr'].max()-df2['mean_entr'].min()))\n",
    "normalized_ener = ((df2['mean_ener'] - df2['mean_ener'].min())/(df2['mean_ener'].max()-df2['mean_ener'].min()))"
   ]
  },
  {
   "cell_type": "code",
   "execution_count": null,
   "metadata": {},
   "outputs": [],
   "source": [
    "bg_color = (192, 192, 192)\n",
    "figure3 = Image.new('RGB', (GLOBAL_WIDTH, GLOBAL_WIDTH), bg_color)\n",
    "x_coords = (GLOBAL_WIDTH * normalized_entr).apply(int)\n",
    "y_coords = (GLOBAL_WIDTH * normalized_ener).apply(int)\n",
    "for i in range(len(thumbs)):\n",
    "    thumb_img = Image.open(os.path.join(THUMB_DIR, thumbs[i]))\n",
    "    figure3.paste(thumb_img, (x_coords[i], y_coords[i]))"
   ]
  },
  {
   "cell_type": "code",
   "execution_count": null,
   "metadata": {},
   "outputs": [],
   "source": [
    "figure3.save(os.path.join(RESULT_DIR, \"mean_entr vs mean_ener.jpg\"))"
   ]
  },
  {
   "cell_type": "markdown",
   "metadata": {},
   "source": [
    "Doing a test to see if we can classify the orange color period in Beksinki's paintings using basic features"
   ]
  },
  {
   "cell_type": "code",
   "execution_count": 323,
   "metadata": {},
   "outputs": [],
   "source": [
    "scaler = sklearn.preprocessing.StandardScaler()\n",
    "features = scaler.fit_transform(df)"
   ]
  },
  {
   "cell_type": "code",
   "execution_count": 324,
   "metadata": {},
   "outputs": [],
   "source": [
    "labels = np.concatenate((np.zeros(int(len(features)/2)), np.ones(int(len(features)/2))))"
   ]
  },
  {
   "cell_type": "code",
   "execution_count": 325,
   "metadata": {},
   "outputs": [
    {
     "data": {
      "text/plain": [
       "SVC(C=1.0, cache_size=200, class_weight=None, coef0=0.0,\n",
       "  decision_function_shape='ovr', degree=3, gamma='auto_deprecated',\n",
       "  kernel='rbf', max_iter=-1, probability=False, random_state=None,\n",
       "  shrinking=True, tol=0.001, verbose=False)"
      ]
     },
     "execution_count": 325,
     "metadata": {},
     "output_type": "execute_result"
    }
   ],
   "source": [
    "model = sklearn.svm.SVC()\n",
    "model.fit(features, labels)"
   ]
  },
  {
   "cell_type": "markdown",
   "metadata": {},
   "source": [
    "for the test, we use several paintings, some that are obviously part of the orange series, and some that aren't."
   ]
  },
  {
   "cell_type": "code",
   "execution_count": 326,
   "metadata": {},
   "outputs": [
    {
     "ename": "FileNotFoundError",
     "evalue": "[Errno 2] No such file or directory: './data/zdzislaw-beksinski\\\\untitled-281.jpg'",
     "output_type": "error",
     "traceback": [
      "\u001b[1;31m---------------------------------------------------------------------------\u001b[0m",
      "\u001b[1;31mFileNotFoundError\u001b[0m                         Traceback (most recent call last)",
      "\u001b[1;32m<ipython-input-326-b74e314ac171>\u001b[0m in \u001b[0;36m<module>\u001b[1;34m\u001b[0m\n\u001b[1;32m----> 1\u001b[1;33m \u001b[0morange\u001b[0m \u001b[1;33m=\u001b[0m \u001b[1;33m[\u001b[0m\u001b[0mcalc_stats\u001b[0m\u001b[1;33m(\u001b[0m\u001b[1;34m\"untitled-281.jpg\"\u001b[0m\u001b[1;33m)\u001b[0m\u001b[1;33m,\u001b[0m \u001b[0mcalc_stats\u001b[0m\u001b[1;33m(\u001b[0m\u001b[1;34m\"untitled-253.jpg\"\u001b[0m\u001b[1;33m)\u001b[0m\u001b[1;33m,\u001b[0m \u001b[0mcalc_stats\u001b[0m\u001b[1;33m(\u001b[0m\u001b[1;34m\"untitled-249.jpg\"\u001b[0m\u001b[1;33m)\u001b[0m\u001b[1;33m]\u001b[0m\u001b[1;33m\u001b[0m\u001b[1;33m\u001b[0m\u001b[0m\n\u001b[0m\u001b[0;32m      2\u001b[0m \u001b[0mfig\u001b[0m\u001b[1;33m,\u001b[0m \u001b[1;33m(\u001b[0m\u001b[0max1\u001b[0m\u001b[1;33m,\u001b[0m \u001b[0max2\u001b[0m\u001b[1;33m,\u001b[0m \u001b[0max3\u001b[0m\u001b[1;33m)\u001b[0m \u001b[1;33m=\u001b[0m \u001b[0mplt\u001b[0m\u001b[1;33m.\u001b[0m\u001b[0msubplots\u001b[0m\u001b[1;33m(\u001b[0m\u001b[0mncols\u001b[0m \u001b[1;33m=\u001b[0m \u001b[1;36m3\u001b[0m\u001b[1;33m,\u001b[0m \u001b[0mfigsize\u001b[0m \u001b[1;33m=\u001b[0m \u001b[1;33m(\u001b[0m\u001b[1;36m16\u001b[0m\u001b[1;33m,\u001b[0m \u001b[1;36m8\u001b[0m\u001b[1;33m)\u001b[0m\u001b[1;33m)\u001b[0m\u001b[1;33m\u001b[0m\u001b[1;33m\u001b[0m\u001b[0m\n\u001b[0;32m      3\u001b[0m \u001b[0max1\u001b[0m\u001b[1;33m.\u001b[0m\u001b[0mimshow\u001b[0m\u001b[1;33m(\u001b[0m\u001b[0mio\u001b[0m\u001b[1;33m.\u001b[0m\u001b[0mimread\u001b[0m\u001b[1;33m(\u001b[0m\u001b[0mos\u001b[0m\u001b[1;33m.\u001b[0m\u001b[0mpath\u001b[0m\u001b[1;33m.\u001b[0m\u001b[0mjoin\u001b[0m\u001b[1;33m(\u001b[0m\u001b[0mIMAGE_DIR\u001b[0m\u001b[1;33m,\u001b[0m \u001b[1;34m\"untitled-281.jpg\"\u001b[0m\u001b[1;33m)\u001b[0m\u001b[1;33m)\u001b[0m\u001b[1;33m)\u001b[0m\u001b[1;33m\u001b[0m\u001b[1;33m\u001b[0m\u001b[0m\n\u001b[0;32m      4\u001b[0m \u001b[0max2\u001b[0m\u001b[1;33m.\u001b[0m\u001b[0mimshow\u001b[0m\u001b[1;33m(\u001b[0m\u001b[0mio\u001b[0m\u001b[1;33m.\u001b[0m\u001b[0mimread\u001b[0m\u001b[1;33m(\u001b[0m\u001b[0mos\u001b[0m\u001b[1;33m.\u001b[0m\u001b[0mpath\u001b[0m\u001b[1;33m.\u001b[0m\u001b[0mjoin\u001b[0m\u001b[1;33m(\u001b[0m\u001b[0mIMAGE_DIR\u001b[0m\u001b[1;33m,\u001b[0m \u001b[1;34m\"untitled-253.jpg\"\u001b[0m\u001b[1;33m)\u001b[0m\u001b[1;33m)\u001b[0m\u001b[1;33m)\u001b[0m\u001b[1;33m\u001b[0m\u001b[1;33m\u001b[0m\u001b[0m\n\u001b[0;32m      5\u001b[0m \u001b[0max3\u001b[0m\u001b[1;33m.\u001b[0m\u001b[0mimshow\u001b[0m\u001b[1;33m(\u001b[0m\u001b[0mio\u001b[0m\u001b[1;33m.\u001b[0m\u001b[0mimread\u001b[0m\u001b[1;33m(\u001b[0m\u001b[0mos\u001b[0m\u001b[1;33m.\u001b[0m\u001b[0mpath\u001b[0m\u001b[1;33m.\u001b[0m\u001b[0mjoin\u001b[0m\u001b[1;33m(\u001b[0m\u001b[0mIMAGE_DIR\u001b[0m\u001b[1;33m,\u001b[0m \u001b[1;34m\"untitled-249.jpg\"\u001b[0m\u001b[1;33m)\u001b[0m\u001b[1;33m)\u001b[0m\u001b[1;33m)\u001b[0m\u001b[1;33m\u001b[0m\u001b[1;33m\u001b[0m\u001b[0m\n",
      "\u001b[1;32m<ipython-input-54-f7512f79ed85>\u001b[0m in \u001b[0;36mcalc_stats\u001b[1;34m(filename)\u001b[0m\n\u001b[0;32m      1\u001b[0m \u001b[1;32mdef\u001b[0m \u001b[0mcalc_stats\u001b[0m\u001b[1;33m(\u001b[0m\u001b[0mfilename\u001b[0m\u001b[1;33m)\u001b[0m\u001b[1;33m:\u001b[0m\u001b[1;33m\u001b[0m\u001b[1;33m\u001b[0m\u001b[0m\n\u001b[1;32m----> 2\u001b[1;33m     \u001b[0mimage\u001b[0m \u001b[1;33m=\u001b[0m \u001b[0mio\u001b[0m\u001b[1;33m.\u001b[0m\u001b[0mimread\u001b[0m\u001b[1;33m(\u001b[0m\u001b[0mos\u001b[0m\u001b[1;33m.\u001b[0m\u001b[0mpath\u001b[0m\u001b[1;33m.\u001b[0m\u001b[0mjoin\u001b[0m\u001b[1;33m(\u001b[0m\u001b[0mIMAGE_DIR\u001b[0m\u001b[1;33m,\u001b[0m \u001b[0mfilename\u001b[0m\u001b[1;33m)\u001b[0m\u001b[1;33m)\u001b[0m\u001b[1;33m\u001b[0m\u001b[1;33m\u001b[0m\u001b[0m\n\u001b[0m\u001b[0;32m      3\u001b[0m     \u001b[0mwidth\u001b[0m \u001b[1;33m=\u001b[0m \u001b[0mimage\u001b[0m\u001b[1;33m.\u001b[0m\u001b[0mshape\u001b[0m\u001b[1;33m[\u001b[0m\u001b[1;36m0\u001b[0m\u001b[1;33m]\u001b[0m\u001b[1;33m\u001b[0m\u001b[1;33m\u001b[0m\u001b[0m\n\u001b[0;32m      4\u001b[0m     \u001b[0mheight\u001b[0m \u001b[1;33m=\u001b[0m \u001b[0mimage\u001b[0m\u001b[1;33m.\u001b[0m\u001b[0mshape\u001b[0m\u001b[1;33m[\u001b[0m\u001b[1;36m1\u001b[0m\u001b[1;33m]\u001b[0m\u001b[1;33m\u001b[0m\u001b[1;33m\u001b[0m\u001b[0m\n\u001b[0;32m      5\u001b[0m     \u001b[0mhsv_img\u001b[0m \u001b[1;33m=\u001b[0m \u001b[0mrgb2hsv\u001b[0m\u001b[1;33m(\u001b[0m\u001b[0mimage\u001b[0m\u001b[1;33m)\u001b[0m\u001b[1;33m\u001b[0m\u001b[1;33m\u001b[0m\u001b[0m\n",
      "\u001b[1;32mD:\\Users\\cameron\\Anaconda3\\lib\\site-packages\\skimage\\io\\_io.py\u001b[0m in \u001b[0;36mimread\u001b[1;34m(fname, as_gray, plugin, flatten, **plugin_args)\u001b[0m\n\u001b[0;32m     60\u001b[0m \u001b[1;33m\u001b[0m\u001b[0m\n\u001b[0;32m     61\u001b[0m     \u001b[1;32mwith\u001b[0m \u001b[0mfile_or_url_context\u001b[0m\u001b[1;33m(\u001b[0m\u001b[0mfname\u001b[0m\u001b[1;33m)\u001b[0m \u001b[1;32mas\u001b[0m \u001b[0mfname\u001b[0m\u001b[1;33m:\u001b[0m\u001b[1;33m\u001b[0m\u001b[1;33m\u001b[0m\u001b[0m\n\u001b[1;32m---> 62\u001b[1;33m         \u001b[0mimg\u001b[0m \u001b[1;33m=\u001b[0m \u001b[0mcall_plugin\u001b[0m\u001b[1;33m(\u001b[0m\u001b[1;34m'imread'\u001b[0m\u001b[1;33m,\u001b[0m \u001b[0mfname\u001b[0m\u001b[1;33m,\u001b[0m \u001b[0mplugin\u001b[0m\u001b[1;33m=\u001b[0m\u001b[0mplugin\u001b[0m\u001b[1;33m,\u001b[0m \u001b[1;33m**\u001b[0m\u001b[0mplugin_args\u001b[0m\u001b[1;33m)\u001b[0m\u001b[1;33m\u001b[0m\u001b[1;33m\u001b[0m\u001b[0m\n\u001b[0m\u001b[0;32m     63\u001b[0m \u001b[1;33m\u001b[0m\u001b[0m\n\u001b[0;32m     64\u001b[0m     \u001b[1;32mif\u001b[0m \u001b[1;32mnot\u001b[0m \u001b[0mhasattr\u001b[0m\u001b[1;33m(\u001b[0m\u001b[0mimg\u001b[0m\u001b[1;33m,\u001b[0m \u001b[1;34m'ndim'\u001b[0m\u001b[1;33m)\u001b[0m\u001b[1;33m:\u001b[0m\u001b[1;33m\u001b[0m\u001b[1;33m\u001b[0m\u001b[0m\n",
      "\u001b[1;32mD:\\Users\\cameron\\Anaconda3\\lib\\site-packages\\skimage\\io\\manage_plugins.py\u001b[0m in \u001b[0;36mcall_plugin\u001b[1;34m(kind, *args, **kwargs)\u001b[0m\n\u001b[0;32m    212\u001b[0m                                (plugin, kind))\n\u001b[0;32m    213\u001b[0m \u001b[1;33m\u001b[0m\u001b[0m\n\u001b[1;32m--> 214\u001b[1;33m     \u001b[1;32mreturn\u001b[0m \u001b[0mfunc\u001b[0m\u001b[1;33m(\u001b[0m\u001b[1;33m*\u001b[0m\u001b[0margs\u001b[0m\u001b[1;33m,\u001b[0m \u001b[1;33m**\u001b[0m\u001b[0mkwargs\u001b[0m\u001b[1;33m)\u001b[0m\u001b[1;33m\u001b[0m\u001b[1;33m\u001b[0m\u001b[0m\n\u001b[0m\u001b[0;32m    215\u001b[0m \u001b[1;33m\u001b[0m\u001b[0m\n\u001b[0;32m    216\u001b[0m \u001b[1;33m\u001b[0m\u001b[0m\n",
      "\u001b[1;32mD:\\Users\\cameron\\Anaconda3\\lib\\site-packages\\skimage\\io\\_plugins\\pil_plugin.py\u001b[0m in \u001b[0;36mimread\u001b[1;34m(fname, dtype, img_num, **kwargs)\u001b[0m\n\u001b[0;32m     33\u001b[0m     \"\"\"\n\u001b[0;32m     34\u001b[0m     \u001b[1;32mif\u001b[0m \u001b[0misinstance\u001b[0m\u001b[1;33m(\u001b[0m\u001b[0mfname\u001b[0m\u001b[1;33m,\u001b[0m \u001b[0mstring_types\u001b[0m\u001b[1;33m)\u001b[0m\u001b[1;33m:\u001b[0m\u001b[1;33m\u001b[0m\u001b[1;33m\u001b[0m\u001b[0m\n\u001b[1;32m---> 35\u001b[1;33m         \u001b[1;32mwith\u001b[0m \u001b[0mopen\u001b[0m\u001b[1;33m(\u001b[0m\u001b[0mfname\u001b[0m\u001b[1;33m,\u001b[0m \u001b[1;34m'rb'\u001b[0m\u001b[1;33m)\u001b[0m \u001b[1;32mas\u001b[0m \u001b[0mf\u001b[0m\u001b[1;33m:\u001b[0m\u001b[1;33m\u001b[0m\u001b[1;33m\u001b[0m\u001b[0m\n\u001b[0m\u001b[0;32m     36\u001b[0m             \u001b[0mim\u001b[0m \u001b[1;33m=\u001b[0m \u001b[0mImage\u001b[0m\u001b[1;33m.\u001b[0m\u001b[0mopen\u001b[0m\u001b[1;33m(\u001b[0m\u001b[0mf\u001b[0m\u001b[1;33m)\u001b[0m\u001b[1;33m\u001b[0m\u001b[1;33m\u001b[0m\u001b[0m\n\u001b[0;32m     37\u001b[0m             \u001b[1;32mreturn\u001b[0m \u001b[0mpil_to_ndarray\u001b[0m\u001b[1;33m(\u001b[0m\u001b[0mim\u001b[0m\u001b[1;33m,\u001b[0m \u001b[0mdtype\u001b[0m\u001b[1;33m=\u001b[0m\u001b[0mdtype\u001b[0m\u001b[1;33m,\u001b[0m \u001b[0mimg_num\u001b[0m\u001b[1;33m=\u001b[0m\u001b[0mimg_num\u001b[0m\u001b[1;33m)\u001b[0m\u001b[1;33m\u001b[0m\u001b[1;33m\u001b[0m\u001b[0m\n",
      "\u001b[1;31mFileNotFoundError\u001b[0m: [Errno 2] No such file or directory: './data/zdzislaw-beksinski\\\\untitled-281.jpg'"
     ]
    }
   ],
   "source": [
    "orange = [calc_stats(\"untitled-281.jpg\"), calc_stats(\"untitled-253.jpg\"), calc_stats(\"untitled-249.jpg\")]\n",
    "fig, (ax1, ax2, ax3) = plt.subplots(ncols = 3, figsize = (16, 8))\n",
    "ax1.imshow(io.imread(os.path.join(IMAGE_DIR, \"untitled-281.jpg\")))\n",
    "ax2.imshow(io.imread(os.path.join(IMAGE_DIR, \"untitled-253.jpg\")))\n",
    "ax3.imshow(io.imread(os.path.join(IMAGE_DIR, \"untitled-249.jpg\")))"
   ]
  },
  {
   "cell_type": "code",
   "execution_count": 327,
   "metadata": {},
   "outputs": [
    {
     "ename": "FileNotFoundError",
     "evalue": "[Errno 2] No such file or directory: './data/zdzislaw-beksinski\\\\untitled-228.jpg'",
     "output_type": "error",
     "traceback": [
      "\u001b[1;31m---------------------------------------------------------------------------\u001b[0m",
      "\u001b[1;31mFileNotFoundError\u001b[0m                         Traceback (most recent call last)",
      "\u001b[1;32m<ipython-input-327-8a1e62ff0216>\u001b[0m in \u001b[0;36m<module>\u001b[1;34m\u001b[0m\n\u001b[1;32m----> 1\u001b[1;33m \u001b[0mblue\u001b[0m \u001b[1;33m=\u001b[0m \u001b[1;33m[\u001b[0m\u001b[0mcalc_stats\u001b[0m\u001b[1;33m(\u001b[0m\u001b[1;34m\"untitled-228.jpg\"\u001b[0m\u001b[1;33m)\u001b[0m\u001b[1;33m,\u001b[0m \u001b[0mcalc_stats\u001b[0m\u001b[1;33m(\u001b[0m\u001b[1;34m\"untitled-240.jpg\"\u001b[0m\u001b[1;33m)\u001b[0m\u001b[1;33m,\u001b[0m \u001b[0mcalc_stats\u001b[0m\u001b[1;33m(\u001b[0m\u001b[1;34m\"untitled-271.jpg\"\u001b[0m\u001b[1;33m)\u001b[0m\u001b[1;33m]\u001b[0m\u001b[1;33m\u001b[0m\u001b[1;33m\u001b[0m\u001b[0m\n\u001b[0m\u001b[0;32m      2\u001b[0m \u001b[0mfig\u001b[0m\u001b[1;33m,\u001b[0m \u001b[1;33m(\u001b[0m\u001b[0max1\u001b[0m\u001b[1;33m,\u001b[0m \u001b[0max2\u001b[0m\u001b[1;33m,\u001b[0m \u001b[0max3\u001b[0m\u001b[1;33m)\u001b[0m \u001b[1;33m=\u001b[0m \u001b[0mplt\u001b[0m\u001b[1;33m.\u001b[0m\u001b[0msubplots\u001b[0m\u001b[1;33m(\u001b[0m\u001b[0mncols\u001b[0m \u001b[1;33m=\u001b[0m \u001b[1;36m3\u001b[0m\u001b[1;33m,\u001b[0m \u001b[0mfigsize\u001b[0m \u001b[1;33m=\u001b[0m \u001b[1;33m(\u001b[0m\u001b[1;36m16\u001b[0m\u001b[1;33m,\u001b[0m \u001b[1;36m8\u001b[0m\u001b[1;33m)\u001b[0m\u001b[1;33m)\u001b[0m\u001b[1;33m\u001b[0m\u001b[1;33m\u001b[0m\u001b[0m\n\u001b[0;32m      3\u001b[0m \u001b[0max1\u001b[0m\u001b[1;33m.\u001b[0m\u001b[0mimshow\u001b[0m\u001b[1;33m(\u001b[0m\u001b[0mio\u001b[0m\u001b[1;33m.\u001b[0m\u001b[0mimread\u001b[0m\u001b[1;33m(\u001b[0m\u001b[0mos\u001b[0m\u001b[1;33m.\u001b[0m\u001b[0mpath\u001b[0m\u001b[1;33m.\u001b[0m\u001b[0mjoin\u001b[0m\u001b[1;33m(\u001b[0m\u001b[0mIMAGE_DIR\u001b[0m\u001b[1;33m,\u001b[0m \u001b[1;34m\"untitled-228.jpg\"\u001b[0m\u001b[1;33m)\u001b[0m\u001b[1;33m)\u001b[0m\u001b[1;33m)\u001b[0m\u001b[1;33m\u001b[0m\u001b[1;33m\u001b[0m\u001b[0m\n\u001b[0;32m      4\u001b[0m \u001b[0max2\u001b[0m\u001b[1;33m.\u001b[0m\u001b[0mimshow\u001b[0m\u001b[1;33m(\u001b[0m\u001b[0mio\u001b[0m\u001b[1;33m.\u001b[0m\u001b[0mimread\u001b[0m\u001b[1;33m(\u001b[0m\u001b[0mos\u001b[0m\u001b[1;33m.\u001b[0m\u001b[0mpath\u001b[0m\u001b[1;33m.\u001b[0m\u001b[0mjoin\u001b[0m\u001b[1;33m(\u001b[0m\u001b[0mIMAGE_DIR\u001b[0m\u001b[1;33m,\u001b[0m \u001b[1;34m\"untitled-240.jpg\"\u001b[0m\u001b[1;33m)\u001b[0m\u001b[1;33m)\u001b[0m\u001b[1;33m)\u001b[0m\u001b[1;33m\u001b[0m\u001b[1;33m\u001b[0m\u001b[0m\n\u001b[0;32m      5\u001b[0m \u001b[0max3\u001b[0m\u001b[1;33m.\u001b[0m\u001b[0mimshow\u001b[0m\u001b[1;33m(\u001b[0m\u001b[0mio\u001b[0m\u001b[1;33m.\u001b[0m\u001b[0mimread\u001b[0m\u001b[1;33m(\u001b[0m\u001b[0mos\u001b[0m\u001b[1;33m.\u001b[0m\u001b[0mpath\u001b[0m\u001b[1;33m.\u001b[0m\u001b[0mjoin\u001b[0m\u001b[1;33m(\u001b[0m\u001b[0mIMAGE_DIR\u001b[0m\u001b[1;33m,\u001b[0m \u001b[1;34m\"untitled-271.jpg\"\u001b[0m\u001b[1;33m)\u001b[0m\u001b[1;33m)\u001b[0m\u001b[1;33m)\u001b[0m\u001b[1;33m\u001b[0m\u001b[1;33m\u001b[0m\u001b[0m\n",
      "\u001b[1;32m<ipython-input-54-f7512f79ed85>\u001b[0m in \u001b[0;36mcalc_stats\u001b[1;34m(filename)\u001b[0m\n\u001b[0;32m      1\u001b[0m \u001b[1;32mdef\u001b[0m \u001b[0mcalc_stats\u001b[0m\u001b[1;33m(\u001b[0m\u001b[0mfilename\u001b[0m\u001b[1;33m)\u001b[0m\u001b[1;33m:\u001b[0m\u001b[1;33m\u001b[0m\u001b[1;33m\u001b[0m\u001b[0m\n\u001b[1;32m----> 2\u001b[1;33m     \u001b[0mimage\u001b[0m \u001b[1;33m=\u001b[0m \u001b[0mio\u001b[0m\u001b[1;33m.\u001b[0m\u001b[0mimread\u001b[0m\u001b[1;33m(\u001b[0m\u001b[0mos\u001b[0m\u001b[1;33m.\u001b[0m\u001b[0mpath\u001b[0m\u001b[1;33m.\u001b[0m\u001b[0mjoin\u001b[0m\u001b[1;33m(\u001b[0m\u001b[0mIMAGE_DIR\u001b[0m\u001b[1;33m,\u001b[0m \u001b[0mfilename\u001b[0m\u001b[1;33m)\u001b[0m\u001b[1;33m)\u001b[0m\u001b[1;33m\u001b[0m\u001b[1;33m\u001b[0m\u001b[0m\n\u001b[0m\u001b[0;32m      3\u001b[0m     \u001b[0mwidth\u001b[0m \u001b[1;33m=\u001b[0m \u001b[0mimage\u001b[0m\u001b[1;33m.\u001b[0m\u001b[0mshape\u001b[0m\u001b[1;33m[\u001b[0m\u001b[1;36m0\u001b[0m\u001b[1;33m]\u001b[0m\u001b[1;33m\u001b[0m\u001b[1;33m\u001b[0m\u001b[0m\n\u001b[0;32m      4\u001b[0m     \u001b[0mheight\u001b[0m \u001b[1;33m=\u001b[0m \u001b[0mimage\u001b[0m\u001b[1;33m.\u001b[0m\u001b[0mshape\u001b[0m\u001b[1;33m[\u001b[0m\u001b[1;36m1\u001b[0m\u001b[1;33m]\u001b[0m\u001b[1;33m\u001b[0m\u001b[1;33m\u001b[0m\u001b[0m\n\u001b[0;32m      5\u001b[0m     \u001b[0mhsv_img\u001b[0m \u001b[1;33m=\u001b[0m \u001b[0mrgb2hsv\u001b[0m\u001b[1;33m(\u001b[0m\u001b[0mimage\u001b[0m\u001b[1;33m)\u001b[0m\u001b[1;33m\u001b[0m\u001b[1;33m\u001b[0m\u001b[0m\n",
      "\u001b[1;32mD:\\Users\\cameron\\Anaconda3\\lib\\site-packages\\skimage\\io\\_io.py\u001b[0m in \u001b[0;36mimread\u001b[1;34m(fname, as_gray, plugin, flatten, **plugin_args)\u001b[0m\n\u001b[0;32m     60\u001b[0m \u001b[1;33m\u001b[0m\u001b[0m\n\u001b[0;32m     61\u001b[0m     \u001b[1;32mwith\u001b[0m \u001b[0mfile_or_url_context\u001b[0m\u001b[1;33m(\u001b[0m\u001b[0mfname\u001b[0m\u001b[1;33m)\u001b[0m \u001b[1;32mas\u001b[0m \u001b[0mfname\u001b[0m\u001b[1;33m:\u001b[0m\u001b[1;33m\u001b[0m\u001b[1;33m\u001b[0m\u001b[0m\n\u001b[1;32m---> 62\u001b[1;33m         \u001b[0mimg\u001b[0m \u001b[1;33m=\u001b[0m \u001b[0mcall_plugin\u001b[0m\u001b[1;33m(\u001b[0m\u001b[1;34m'imread'\u001b[0m\u001b[1;33m,\u001b[0m \u001b[0mfname\u001b[0m\u001b[1;33m,\u001b[0m \u001b[0mplugin\u001b[0m\u001b[1;33m=\u001b[0m\u001b[0mplugin\u001b[0m\u001b[1;33m,\u001b[0m \u001b[1;33m**\u001b[0m\u001b[0mplugin_args\u001b[0m\u001b[1;33m)\u001b[0m\u001b[1;33m\u001b[0m\u001b[1;33m\u001b[0m\u001b[0m\n\u001b[0m\u001b[0;32m     63\u001b[0m \u001b[1;33m\u001b[0m\u001b[0m\n\u001b[0;32m     64\u001b[0m     \u001b[1;32mif\u001b[0m \u001b[1;32mnot\u001b[0m \u001b[0mhasattr\u001b[0m\u001b[1;33m(\u001b[0m\u001b[0mimg\u001b[0m\u001b[1;33m,\u001b[0m \u001b[1;34m'ndim'\u001b[0m\u001b[1;33m)\u001b[0m\u001b[1;33m:\u001b[0m\u001b[1;33m\u001b[0m\u001b[1;33m\u001b[0m\u001b[0m\n",
      "\u001b[1;32mD:\\Users\\cameron\\Anaconda3\\lib\\site-packages\\skimage\\io\\manage_plugins.py\u001b[0m in \u001b[0;36mcall_plugin\u001b[1;34m(kind, *args, **kwargs)\u001b[0m\n\u001b[0;32m    212\u001b[0m                                (plugin, kind))\n\u001b[0;32m    213\u001b[0m \u001b[1;33m\u001b[0m\u001b[0m\n\u001b[1;32m--> 214\u001b[1;33m     \u001b[1;32mreturn\u001b[0m \u001b[0mfunc\u001b[0m\u001b[1;33m(\u001b[0m\u001b[1;33m*\u001b[0m\u001b[0margs\u001b[0m\u001b[1;33m,\u001b[0m \u001b[1;33m**\u001b[0m\u001b[0mkwargs\u001b[0m\u001b[1;33m)\u001b[0m\u001b[1;33m\u001b[0m\u001b[1;33m\u001b[0m\u001b[0m\n\u001b[0m\u001b[0;32m    215\u001b[0m \u001b[1;33m\u001b[0m\u001b[0m\n\u001b[0;32m    216\u001b[0m \u001b[1;33m\u001b[0m\u001b[0m\n",
      "\u001b[1;32mD:\\Users\\cameron\\Anaconda3\\lib\\site-packages\\skimage\\io\\_plugins\\pil_plugin.py\u001b[0m in \u001b[0;36mimread\u001b[1;34m(fname, dtype, img_num, **kwargs)\u001b[0m\n\u001b[0;32m     33\u001b[0m     \"\"\"\n\u001b[0;32m     34\u001b[0m     \u001b[1;32mif\u001b[0m \u001b[0misinstance\u001b[0m\u001b[1;33m(\u001b[0m\u001b[0mfname\u001b[0m\u001b[1;33m,\u001b[0m \u001b[0mstring_types\u001b[0m\u001b[1;33m)\u001b[0m\u001b[1;33m:\u001b[0m\u001b[1;33m\u001b[0m\u001b[1;33m\u001b[0m\u001b[0m\n\u001b[1;32m---> 35\u001b[1;33m         \u001b[1;32mwith\u001b[0m \u001b[0mopen\u001b[0m\u001b[1;33m(\u001b[0m\u001b[0mfname\u001b[0m\u001b[1;33m,\u001b[0m \u001b[1;34m'rb'\u001b[0m\u001b[1;33m)\u001b[0m \u001b[1;32mas\u001b[0m \u001b[0mf\u001b[0m\u001b[1;33m:\u001b[0m\u001b[1;33m\u001b[0m\u001b[1;33m\u001b[0m\u001b[0m\n\u001b[0m\u001b[0;32m     36\u001b[0m             \u001b[0mim\u001b[0m \u001b[1;33m=\u001b[0m \u001b[0mImage\u001b[0m\u001b[1;33m.\u001b[0m\u001b[0mopen\u001b[0m\u001b[1;33m(\u001b[0m\u001b[0mf\u001b[0m\u001b[1;33m)\u001b[0m\u001b[1;33m\u001b[0m\u001b[1;33m\u001b[0m\u001b[0m\n\u001b[0;32m     37\u001b[0m             \u001b[1;32mreturn\u001b[0m \u001b[0mpil_to_ndarray\u001b[0m\u001b[1;33m(\u001b[0m\u001b[0mim\u001b[0m\u001b[1;33m,\u001b[0m \u001b[0mdtype\u001b[0m\u001b[1;33m=\u001b[0m\u001b[0mdtype\u001b[0m\u001b[1;33m,\u001b[0m \u001b[0mimg_num\u001b[0m\u001b[1;33m=\u001b[0m\u001b[0mimg_num\u001b[0m\u001b[1;33m)\u001b[0m\u001b[1;33m\u001b[0m\u001b[1;33m\u001b[0m\u001b[0m\n",
      "\u001b[1;31mFileNotFoundError\u001b[0m: [Errno 2] No such file or directory: './data/zdzislaw-beksinski\\\\untitled-228.jpg'"
     ]
    }
   ],
   "source": [
    "blue = [calc_stats(\"untitled-228.jpg\"), calc_stats(\"untitled-240.jpg\"), calc_stats(\"untitled-271.jpg\")]\n",
    "fig, (ax1, ax2, ax3) = plt.subplots(ncols = 3, figsize = (16, 8))\n",
    "ax1.imshow(io.imread(os.path.join(IMAGE_DIR, \"untitled-228.jpg\")))\n",
    "ax2.imshow(io.imread(os.path.join(IMAGE_DIR, \"untitled-240.jpg\")))\n",
    "ax3.imshow(io.imread(os.path.join(IMAGE_DIR, \"untitled-271.jpg\")))"
   ]
  },
  {
   "cell_type": "code",
   "execution_count": null,
   "metadata": {},
   "outputs": [],
   "source": [
    "scaled_orange = scaler.fit_transform(orange)\n",
    "scaled_blue = scaler.fit_transform(blue)\n",
    "test_features = np.vstack((scaled_orange, scaled_blue))\n",
    "test_labels = np.concatenate((np.zeros(int(len(test_features)/2)), np.ones(int(len(test_features)/2))))"
   ]
  },
  {
   "cell_type": "code",
   "execution_count": null,
   "metadata": {},
   "outputs": [],
   "source": [
    "predictions = model.predict(scaled_test_features)"
   ]
  },
  {
   "cell_type": "code",
   "execution_count": null,
   "metadata": {},
   "outputs": [],
   "source": [
    "score = model.score(test_features, test_labels)\n",
    "score"
   ]
  },
  {
   "cell_type": "markdown",
   "metadata": {},
   "source": [
    "[a link](./data/results-zdzislaw-beksinski/brightness_vs_hue.jpg)"
   ]
  },
  {
   "cell_type": "code",
   "execution_count": 317,
   "metadata": {},
   "outputs": [
    {
     "data": {
      "text/plain": [
       "['brightness_vs_hue.jpg',\n",
       " 'mean_entr vs mean_ener.jpg',\n",
       " 'saturation_vs_hue.jpg']"
      ]
     },
     "execution_count": 317,
     "metadata": {},
     "output_type": "execute_result"
    }
   ],
   "source": [
    "os.listdir('./data/results-zdzislaw-beksinski')"
   ]
  },
  {
   "cell_type": "code",
   "execution_count": 318,
   "metadata": {},
   "outputs": [
    {
     "data": {
      "text/plain": [
       "'./data/'"
      ]
     },
     "execution_count": 318,
     "metadata": {},
     "output_type": "execute_result"
    }
   ],
   "source": []
  },
  {
   "cell_type": "code",
   "execution_count": null,
   "metadata": {},
   "outputs": [],
   "source": []
  }
 ],
 "metadata": {
  "kernelspec": {
   "display_name": "Python 3",
   "language": "python",
   "name": "python3"
  },
  "language_info": {
   "codemirror_mode": {
    "name": "ipython",
    "version": 3
   },
   "file_extension": ".py",
   "mimetype": "text/x-python",
   "name": "python",
   "nbconvert_exporter": "python",
   "pygments_lexer": "ipython3",
   "version": "3.7.1"
  }
 },
 "nbformat": 4,
 "nbformat_minor": 2
}
