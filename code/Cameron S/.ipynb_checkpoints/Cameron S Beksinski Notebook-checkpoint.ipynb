{
 "cells": [
  {
   "cell_type": "code",
   "execution_count": 1,
   "metadata": {},
   "outputs": [],
   "source": [
    "from bs4 import BeautifulSoup\n",
    "import os\n",
    "import requests\n",
    "%matplotlib inline\n",
    "import matplotlib.pyplot as plt\n",
    "import numpy as np\n",
    "from skimage import io\n",
    "import skimage\n",
    "import os\n",
    "from skimage import data\n",
    "from skimage.color import rgb2hsv\n",
    "import pandas as pd"
   ]
  },
  {
   "cell_type": "markdown",
   "metadata": {},
   "source": [
    "# Scraping Beksinski's Works\n",
    "\n",
    "Fairly self explanatory, searching for Zdislav Beksinski's artworks from Wikiart and downloading them."
   ]
  },
  {
   "cell_type": "code",
   "execution_count": 18,
   "metadata": {},
   "outputs": [],
   "source": [
    "DATA_DIR = 'data/'\n",
    "ARTIST_URL = 'https://www.wikiart.org/en/{artist}/all-works/text-list'\n",
    "PAINTING_URL = 'https://www.wikiart.org{painting_path}'\n",
    "\n",
    "if not os.path.exists(DATA_DIR):\n",
    "    os.makedirs(DATA_DIR)"
   ]
  },
  {
   "cell_type": "code",
   "execution_count": 19,
   "metadata": {},
   "outputs": [],
   "source": [
    "artist_name = 'zdislav-beksinski'\n",
    "url_query = ARTIST_URL.format(artist=artist_name)\n",
    "artist_page = requests.get(url_query)"
   ]
  },
  {
   "cell_type": "code",
   "execution_count": 20,
   "metadata": {},
   "outputs": [],
   "source": [
    "try:\n",
    "    artist_page.raise_for_status()\n",
    "except requests.exceptions.HTTPError as e:\n",
    "    print(\"Error trying to retrieve {}\".format(artist_page.url))\n",
    "    raise e"
   ]
  },
  {
   "cell_type": "code",
   "execution_count": 21,
   "metadata": {},
   "outputs": [],
   "source": [
    "soup = BeautifulSoup(artist_page.text, 'lxml')\n",
    "IMAGE_DIR = os.path.join(DATA_DIR, artist_name)\n",
    "if not os.path.exists(IMAGE_DIR):\n",
    "    os.makedirs(IMAGE_DIR)"
   ]
  },
  {
   "cell_type": "code",
   "execution_count": 22,
   "metadata": {},
   "outputs": [
    {
     "name": "stdout",
     "output_type": "stream",
     "text": [
      "708\n"
     ]
    }
   ],
   "source": [
    "painting_paths = []\n",
    "\n",
    "for li in soup.find_all('li', {'class': 'painting-list-text-row'}):\n",
    "\n",
    "    for link in li.find_all('a'):\n",
    "        href = link.get('href')\n",
    "        # store in dictionary\n",
    "        painting_paths.append(href)\n",
    "\n",
    "print(len(painting_paths))"
   ]
  },
  {
   "cell_type": "code",
   "execution_count": 23,
   "metadata": {},
   "outputs": [],
   "source": [
    "def download_and_save(painting_url):\n",
    "    r_painting_page = requests.get(painting_url)\n",
    "    soup = BeautifulSoup(r_painting_page.text, 'lxml')\n",
    "    for img in soup.find_all('img', {'class': 'ms-zoom-cursor'}):\n",
    "        img_url = img['src']\n",
    "        img_url = img_url.split('!')[0]\n",
    "        filename = img_url.split('/')[-1]\n",
    "\n",
    "        outfile = os.path.join(IMAGE_DIR, filename)                       \n",
    "        if not os.path.exists(outfile):                        \n",
    "            print(\"downloading {}: {}\".format(filename, img_url))\n",
    "            r = requests.get(img_url, outfile)\n",
    "            with open(outfile, 'wb') as f:\n",
    "                f.write(r.content)\n",
    "        else:\n",
    "            #print(\"skipping {}\".format(filename))\n",
    "            pass"
   ]
  },
  {
   "cell_type": "code",
   "execution_count": 24,
   "metadata": {
    "scrolled": true
   },
   "outputs": [
    {
     "name": "stdout",
     "output_type": "stream",
     "text": [
      "downloading untitled-209.jpg: https://uploads1.wikiart.org/images/zdislav-beksinski/untitled-209.jpg\n",
      "downloading untitled-210.jpg: https://uploads1.wikiart.org/images/zdislav-beksinski/untitled-210.jpg\n",
      "downloading untitled-211.jpg: https://uploads1.wikiart.org/images/zdislav-beksinski/untitled-211.jpg\n",
      "downloading untitled-212.jpg: https://uploads1.wikiart.org/images/zdislav-beksinski/untitled-212.jpg\n",
      "downloading untitled-213.jpg: https://uploads1.wikiart.org/images/zdislav-beksinski/untitled-213.jpg\n",
      "downloading untitled-214.jpg: https://uploads0.wikiart.org/images/zdislav-beksinski/untitled-214.jpg\n",
      "downloading untitled-215.jpg: https://uploads0.wikiart.org/images/zdislav-beksinski/untitled-215.jpg\n",
      "downloading untitled-216.jpg: https://uploads0.wikiart.org/images/zdislav-beksinski/untitled-216.jpg\n",
      "downloading untitled-217.jpg: https://uploads1.wikiart.org/images/zdislav-beksinski/untitled-217.jpg\n",
      "downloading untitled-218.jpg: https://uploads1.wikiart.org/images/zdislav-beksinski/untitled-218.jpg\n",
      "downloading untitled-219.jpg: https://uploads1.wikiart.org/images/zdislav-beksinski/untitled-219.jpg\n",
      "downloading untitled-220.jpg: https://uploads1.wikiart.org/images/zdislav-beksinski/untitled-220.jpg\n",
      "downloading untitled-221.jpg: https://uploads1.wikiart.org/images/zdislav-beksinski/untitled-221.jpg\n",
      "downloading untitled-222.jpg: https://uploads1.wikiart.org/images/zdislav-beksinski/untitled-222.jpg\n",
      "downloading untitled-223.jpg: https://uploads1.wikiart.org/images/zdislav-beksinski/untitled-223.jpg\n",
      "downloading untitled-224.jpg: https://uploads1.wikiart.org/images/zdislav-beksinski/untitled-224.jpg\n",
      "downloading untitled-225.jpg: https://uploads1.wikiart.org/images/zdislav-beksinski/untitled-225.jpg\n",
      "downloading untitled-226.jpg: https://uploads1.wikiart.org/images/zdislav-beksinski/untitled-226.jpg\n",
      "downloading untitled-227.jpg: https://uploads1.wikiart.org/images/zdislav-beksinski/untitled-227.jpg\n",
      "downloading untitled-228.jpg: https://uploads0.wikiart.org/images/zdislav-beksinski/untitled-228.jpg\n",
      "downloading untitled-229.jpg: https://uploads1.wikiart.org/images/zdislav-beksinski/untitled-229.jpg\n",
      "downloading untitled-230.jpg: https://uploads0.wikiart.org/images/zdislav-beksinski/untitled-230.jpg\n",
      "downloading untitled-231.jpg: https://uploads1.wikiart.org/images/zdislav-beksinski/untitled-231.jpg\n",
      "downloading untitled-232.jpg: https://uploads0.wikiart.org/images/zdislav-beksinski/untitled-232.jpg\n",
      "downloading untitled-233.jpg: https://uploads0.wikiart.org/images/zdislav-beksinski/untitled-233.jpg\n",
      "downloading untitled-234.jpg: https://uploads1.wikiart.org/images/zdislav-beksinski/untitled-234.jpg\n",
      "downloading untitled-235.jpg: https://uploads1.wikiart.org/images/zdislav-beksinski/untitled-235.jpg\n",
      "downloading untitled-236.jpg: https://uploads0.wikiart.org/images/zdislav-beksinski/untitled-236.jpg\n",
      "downloading untitled-237.jpg: https://uploads1.wikiart.org/images/zdislav-beksinski/untitled-237.jpg\n",
      "downloading untitled-238.jpg: https://uploads1.wikiart.org/images/zdislav-beksinski/untitled-238.jpg\n",
      "downloading untitled-239.jpg: https://uploads1.wikiart.org/images/zdislav-beksinski/untitled-239.jpg\n",
      "downloading untitled-240.jpg: https://uploads0.wikiart.org/images/zdislav-beksinski/untitled-240.jpg\n",
      "downloading untitled-241.jpg: https://uploads1.wikiart.org/images/zdislav-beksinski/untitled-241.jpg\n",
      "downloading untitled-242.jpg: https://uploads0.wikiart.org/images/zdislav-beksinski/untitled-242.jpg\n",
      "downloading untitled-243.jpg: https://uploads1.wikiart.org/images/zdislav-beksinski/untitled-243.jpg\n",
      "downloading untitled-244.jpg: https://uploads1.wikiart.org/images/zdislav-beksinski/untitled-244.jpg\n",
      "downloading untitled-245.jpg: https://uploads1.wikiart.org/images/zdislav-beksinski/untitled-245.jpg\n",
      "downloading untitled-246.jpg: https://uploads1.wikiart.org/images/zdislav-beksinski/untitled-246.jpg\n",
      "downloading untitled-247.jpg: https://uploads1.wikiart.org/images/zdislav-beksinski/untitled-247.jpg\n",
      "downloading untitled-248.jpg: https://uploads1.wikiart.org/images/zdislav-beksinski/untitled-248.jpg\n",
      "downloading untitled-249.jpg: https://uploads1.wikiart.org/images/zdislav-beksinski/untitled-249.jpg\n",
      "downloading untitled-250.jpg: https://uploads1.wikiart.org/images/zdislav-beksinski/untitled-250.jpg\n",
      "downloading untitled-251.jpg: https://uploads1.wikiart.org/images/zdislav-beksinski/untitled-251.jpg\n",
      "downloading untitled-252.jpg: https://uploads1.wikiart.org/images/zdislav-beksinski/untitled-252.jpg\n",
      "downloading untitled-253.jpg: https://uploads1.wikiart.org/images/zdislav-beksinski/untitled-253.jpg\n",
      "downloading untitled-254.jpg: https://uploads1.wikiart.org/images/zdislav-beksinski/untitled-254.jpg\n",
      "downloading untitled-255.jpg: https://uploads1.wikiart.org/images/zdislav-beksinski/untitled-255.jpg\n",
      "downloading untitled-256.jpg: https://uploads1.wikiart.org/images/zdislav-beksinski/untitled-256.jpg\n",
      "downloading untitled-257.jpg: https://uploads1.wikiart.org/images/zdislav-beksinski/untitled-257.jpg\n",
      "downloading untitled-258.jpg: https://uploads1.wikiart.org/images/zdislav-beksinski/untitled-258.jpg\n",
      "downloading untitled-259.jpg: https://uploads1.wikiart.org/images/zdislav-beksinski/untitled-259.jpg\n",
      "downloading untitled-260.jpg: https://uploads0.wikiart.org/images/zdislav-beksinski/untitled-260.jpg\n",
      "downloading untitled-261.jpg: https://uploads1.wikiart.org/images/zdislav-beksinski/untitled-261.jpg\n",
      "downloading untitled-262.jpg: https://uploads0.wikiart.org/images/zdislav-beksinski/untitled-262.jpg\n",
      "downloading untitled-263.jpg: https://uploads1.wikiart.org/images/zdislav-beksinski/untitled-263.jpg\n",
      "downloading untitled-264.jpg: https://uploads1.wikiart.org/images/zdislav-beksinski/untitled-264.jpg\n",
      "downloading untitled-265.jpg: https://uploads0.wikiart.org/images/zdislav-beksinski/untitled-265.jpg\n",
      "downloading untitled-266.jpg: https://uploads1.wikiart.org/images/zdislav-beksinski/untitled-266.jpg\n",
      "downloading untitled-267.jpg: https://uploads1.wikiart.org/images/zdislav-beksinski/untitled-267.jpg\n",
      "downloading untitled-268.jpg: https://uploads0.wikiart.org/images/zdislav-beksinski/untitled-268.jpg\n",
      "downloading untitled-269.jpg: https://uploads1.wikiart.org/images/zdislav-beksinski/untitled-269.jpg\n",
      "downloading untitled-270.jpg: https://uploads0.wikiart.org/images/zdislav-beksinski/untitled-270.jpg\n",
      "downloading untitled-271.jpg: https://uploads1.wikiart.org/images/zdislav-beksinski/untitled-271.jpg\n",
      "downloading untitled-272.jpg: https://uploads1.wikiart.org/images/zdislav-beksinski/untitled-272.jpg\n",
      "downloading untitled-273.jpg: https://uploads1.wikiart.org/images/zdislav-beksinski/untitled-273.jpg\n",
      "downloading untitled-274.jpg: https://uploads0.wikiart.org/images/zdislav-beksinski/untitled-274.jpg\n",
      "downloading untitled-275.jpg: https://uploads1.wikiart.org/images/zdislav-beksinski/untitled-275.jpg\n",
      "downloading untitled-276.jpg: https://uploads1.wikiart.org/images/zdislav-beksinski/untitled-276.jpg\n",
      "downloading untitled-277.jpg: https://uploads1.wikiart.org/images/zdislav-beksinski/untitled-277.jpg\n",
      "downloading untitled-278.jpg: https://uploads1.wikiart.org/images/zdislav-beksinski/untitled-278.jpg\n",
      "downloading untitled-279.jpg: https://uploads1.wikiart.org/images/zdislav-beksinski/untitled-279.jpg\n",
      "downloading untitled-280.jpg: https://uploads1.wikiart.org/images/zdislav-beksinski/untitled-280.jpg\n",
      "downloading untitled-281.jpg: https://uploads1.wikiart.org/images/zdislav-beksinski/untitled-281.jpg\n",
      "downloading untitled-282.jpg: https://uploads1.wikiart.org/images/zdislav-beksinski/untitled-282.jpg\n",
      "downloading untitled-283.jpg: https://uploads1.wikiart.org/images/zdislav-beksinski/untitled-283.jpg\n",
      "downloading untitled-284.jpg: https://uploads0.wikiart.org/images/zdislav-beksinski/untitled-284.jpg\n",
      "downloading untitled-285.jpg: https://uploads0.wikiart.org/images/zdislav-beksinski/untitled-285.jpg\n",
      "downloading untitled-286.jpg: https://uploads1.wikiart.org/images/zdislav-beksinski/untitled-286.jpg\n",
      "downloading untitled-287.jpg: https://uploads1.wikiart.org/images/zdislav-beksinski/untitled-287.jpg\n",
      "downloading untitled-288.jpg: https://uploads0.wikiart.org/images/zdislav-beksinski/untitled-288.jpg\n"
     ]
    }
   ],
   "source": [
    "#choosing the most interesting to me, Beksinski has over 700 works, so I didn't want to just download all of them.\n",
    "for path in painting_paths[240:320]:\n",
    "    painting_path = PAINTING_URL.format(painting_path=path)\n",
    "    download_and_save(painting_path)"
   ]
  },
  {
   "cell_type": "code",
   "execution_count": null,
   "metadata": {},
   "outputs": [],
   "source": []
  },
  {
   "cell_type": "code",
   "execution_count": null,
   "metadata": {},
   "outputs": [],
   "source": []
  }
 ],
 "metadata": {
  "kernelspec": {
   "display_name": "Python 3",
   "language": "python",
   "name": "python3"
  },
  "language_info": {
   "codemirror_mode": {
    "name": "ipython",
    "version": 3
   },
   "file_extension": ".py",
   "mimetype": "text/x-python",
   "name": "python",
   "nbconvert_exporter": "python",
   "pygments_lexer": "ipython3",
   "version": "3.7.1"
  }
 },
 "nbformat": 4,
 "nbformat_minor": 2
}
